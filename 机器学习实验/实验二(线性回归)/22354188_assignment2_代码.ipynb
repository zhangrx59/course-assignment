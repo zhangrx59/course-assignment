{
 "cells": [
  {
   "cell_type": "markdown",
   "id": "d1d372bd",
   "metadata": {},
   "source": [
    "# 线性回归（二）"
   ]
  },
  {
   "cell_type": "code",
   "execution_count": 2,
   "id": "e5490988",
   "metadata": {},
   "outputs": [],
   "source": [
    "import pandas as pd\n",
    "import numpy as np\n",
    "import matplotlib.pyplot as plt"
   ]
  },
  {
   "cell_type": "markdown",
   "id": "ff8e6cf4",
   "metadata": {},
   "source": [
    "<span style=\"color:purple\">1) 使用pandas库的read_csv()函数(可以参考[pandas的官方文档](https://pandas.pydata.org/docs/reference/api/pandas.read_csv.html))将训练数据集'train.csv'和测试数据集'test.csv'载入到Dataframe对象中。</span>"
   ]
  },
  {
   "cell_type": "code",
   "execution_count": 14,
   "id": "54dd0337",
   "metadata": {},
   "outputs": [],
   "source": [
    "# Your code here\n",
    "Dataframe=pd.read_csv('train.csv')\n",
    "Dataframe2=pd.read_csv('test.csv')\n",
    "#读取数据集\n",
    "#使用函数 pd.read_csv\n",
    "num=np.array(Dataframe)\n",
    "num2=np.array(Dataframe2)\n",
    "#转化成numpy矩阵\n",
    "#使用函数 np.array"
   ]
  },
  {
   "cell_type": "markdown",
   "id": "ab4f7fe0",
   "metadata": {},
   "source": [
    "<span style=\"color:purple\">2) 假设模型为一元线性回归模型$\\hat{y}=wx+b$, 损失函数为$l(w,b)=\\frac{1}{2}\\sum_{i=1}^m(\\hat{y}^{(i)}-y^{(i)})^2$, 其中$\\hat{y}^{(i)}$表示第$i$个样本的预测值，$y^{(i)}$表示第$i$个样本的实际标签值, $m$为训练集中样本的个数。求出使得损失函数最小化的参数$w$和$b$。</span>"
   ]
  },
  {
   "cell_type": "markdown",
   "id": "37949e92",
   "metadata": {},
   "source": [
    "方法① \n",
    "\n",
    "将$l(w,b)$分别对$w$和$b$求导，得到\n",
    "$$\n",
    "\\frac{\\partial l(w,b)}{\\partial w}=w\\sum_{i=1}^m x_i^2 -\\sum_{i=1}^m (y_i-b)x_i,\n",
    "$$\n",
    "$$\n",
    "\\frac{\\partial l(w,b)}{\\partial b}=mb -\\sum_{i=1}^m (y_i-wx_i),\n",
    "$$\n",
    "令上述两式为零即可得到$w$和$b$的解析解：\n",
    "$$\n",
    "w=\\frac{\\sum_{i=1}^m y_i (x_i-\\bar{x})}{\\sum_{i=1}^m x_i^2-\\frac{1}{m}(\\sum_{i=1}^m x_i)^2},\n",
    "$$\n",
    "$$\n",
    "b=\\frac{1}{m}\\sum_{i=1}^m(y_i-wx_i),\n",
    "$$\n",
    "其中$\\bar{x}=\\frac{1}{m}\\sum_{i=1}^m x_i$为$x$的均值。\n",
    "\n"
   ]
  },
  {
   "cell_type": "code",
   "execution_count": 87,
   "id": "fea55f2c",
   "metadata": {},
   "outputs": [
    {
     "name": "stdout",
     "output_type": "stream",
     "text": [
      "[ 235.88607423 1502.41429599]\n",
      "sum x*x= 469.39225429976216\n",
      "sum y*y= 15259.981600162002\n",
      "sum x*y= 2584.921078578418\n",
      "text中x平均值为： 1.47428796396144\n",
      "text中y平均值为： 9.390089349933202\n",
      "w= 3.041478870014282\n",
      "b= 4.906073659228105\n",
      "[ 66.33789924 396.38929122]\n",
      "sum x*x= 142.09439000790425\n",
      "sum y*y= 4229.59631458883\n",
      "sum x*y= 754.6240693905429\n",
      "text中x平均值为： 1.65844748111139\n",
      "text中y平均值为： 9.909732280567301\n",
      "w2= 3.0312953255435477\n",
      "b2= 4.906073659228105\n"
     ]
    }
   ],
   "source": [
    "# Your code here\n",
    "#使用函数 np.sum\n",
    "sumx=np.sum(num,axis=0)\n",
    "print(sumx)\n",
    "xx=np.sum(np.square(num),axis=0)\n",
    "print(\"sum x*x=\",xx[0])\n",
    "print(\"sum y*y=\",xx[1])\n",
    "x=np.array(num[:,0])\n",
    "y=np.array(num[:,1])\n",
    "xy=np.dot(x,y)\n",
    "print(\"sum x*y=\",xy)\n",
    "aver1=sumx/len(num)\n",
    "averx=aver1[0]\n",
    "avery=aver1[1]\n",
    "print(\"text中x平均值为：\",averx)\n",
    "print(\"text中y平均值为：\",avery)\n",
    "w=(xy-len(num)*averx*avery)/(xx[0]-len(num)*averx*averx)\n",
    "print(\"w=\",w)\n",
    "b=(avery-w*averx)\n",
    "print(\"b=\",b)\n",
    "#样本数据\n",
    "\n",
    "#测试数据\n",
    "sumx2=np.sum(num2,axis=0)\n",
    "print(sumx2)\n",
    "xx2=np.sum(np.square(num2),axis=0)\n",
    "print(\"sum x*x=\",xx2[0])\n",
    "print(\"sum y*y=\",xx2[1])\n",
    "x2=np.array(num2[:,0])\n",
    "y2=np.array(num2[:,1])\n",
    "xy2=np.dot(x2,y2)\n",
    "print(\"sum x*y=\",xy2)\n",
    "aver2=sumx2/len(num2)\n",
    "averx2=aver2[0]\n",
    "avery2=aver2[1]\n",
    "print(\"text中x平均值为：\",averx2)\n",
    "print(\"text中y平均值为：\",avery2)\n",
    "ww=(xy2-len(num2)*averx2*avery2)/(xx2[0]-len(num2)*averx2*averx2)\n",
    "print(\"w2=\",ww)\n",
    "b2=(avery-w*averx)\n",
    "print(\"b2=\",b2)"
   ]
  },
  {
   "cell_type": "markdown",
   "id": "f8d8c2c7",
   "metadata": {},
   "source": [
    "方法② 梯度下降法。手动实现梯度下降法(不使用机器学习框架，如PyTorch、TensorFlow等)来进行模型的训练。算法步骤如下：1.初始化模型参数$w$和$b$的值；2.在负梯度的方向上更新参数(批量梯度下降、小批量随机梯度下降或者随机梯度下降均可)，并不断迭代这一步骤，更新公式(以小批量随机梯度下降为例)可以写成：$$w\\gets w-\\frac{\\eta}{\\left|B\\right|}\\sum_{i\\in{B}}x^{(i)}(wx^{(i)}+b-y^{(i)}),$$ 和$$b\\gets b-\\frac{\\eta}{\\left|B\\right|}\\sum_{i\\in{B}}(wx^{(i)}+b-y^{(i)}),$$ 其中$\\eta$表示学习率,$B$表示每次迭代中随机抽样的小批量，$\\left|B\\right|$则表示$B$中的样本数量。3. 终止条件为迭代次数达到某一上限或者参数更新的幅度小于某个阈值。"
   ]
  },
  {
   "cell_type": "code",
   "execution_count": 88,
   "id": "e980560b",
   "metadata": {},
   "outputs": [
    {
     "name": "stdout",
     "output_type": "stream",
     "text": [
      "真实值w: 3.0312953255435477\n",
      "真实值b: 4.906073659228105\n",
      "初始值w= 3.0\n",
      "初始值b= 4.9\n",
      "修正后w= 3.025174026106168\n",
      "修正后b= 4.912227848180496\n"
     ]
    }
   ],
   "source": [
    "# Your code here\n",
    "#使用 for循环，函数 np.sum等\n",
    "print(\"真实值w:\",ww)\n",
    "print(\"真实值b:\",b2)\n",
    "w=3.0\n",
    "b=4.9\n",
    "print(\"初始值w=\",w)\n",
    "print(\"初始值b=\",b)\n",
    "yita=0.05\n",
    "for i in range(1000):\n",
    "    w=w-(yita/len(num))*x[i%len(num)]*(w*x[i%len(num)]+b-y[i%len(num)])\n",
    "    b=b-(yita/len(num))*(w*x[i%len(num)]+b-y[i%len(num)])\n",
    "\n",
    "print(\"修正后w=\",w)\n",
    "print(\"修正后b=\",b)"
   ]
  },
  {
   "cell_type": "markdown",
   "id": "7402803f",
   "metadata": {},
   "source": [
    "方法③ \n",
    "\n",
    "用矩阵表示，假设数据集有$m$个样本，特征有$n$维$。X=\\left[ \\begin{matrix} x_{11} & x_{12} & \\cdots & x_{1n} & 1 \\\\\n",
    "                         x_{21} & x_{22} & \\cdots & x_{2n} & 1 \\\\\n",
    "                         \\vdots & \\vdots &      & \\vdots & \\vdots \\\\\n",
    "                         x_{m1} & x_{m2} & \\cdots & x_{mn} & 1 \\end{matrix} \\right]$,\n",
    "        实际标签$Y=\\left[ \\begin{matrix} y_{1} \\\\\n",
    "                         y_{2} \\\\\n",
    "                         \\vdots \\\\\n",
    "                         y_{m}\\end{matrix} \\right]$,\n",
    "        参数$B=\\left[ \\begin{matrix} w_{1} \\\\\n",
    "                         w_{2} \\\\\n",
    "                         \\vdots \\\\\n",
    "                         w_{n} \\\\\n",
    "                         b\\end{matrix} \\right]$，则解析解为$B^*=(X^T X)^{-1}X^T Y$。推导过程可参考[这篇文章](https://zhuanlan.zhihu.com/p/74157986)。"
   ]
  },
  {
   "cell_type": "code",
   "execution_count": 158,
   "id": "44f2951f",
   "metadata": {},
   "outputs": [
    {
     "name": "stdout",
     "output_type": "stream",
     "text": [
      "B=\n",
      "[[1.00723001]\n",
      " [2.00339371]\n",
      " [3.01025624]\n",
      " [5.94254393]]\n"
     ]
    }
   ],
   "source": [
    "# Your code here\n",
    "#使用函数 np.c_ np.ones np.linalg.inv\n",
    "Dataframe3=pd.read_csv('train2.csv')\n",
    "Dataframe4=pd.read_csv('test2.csv')\n",
    "#读取数据集\n",
    "#使用函数 pd.read_csv\n",
    "num3=np.array(Dataframe3)\n",
    "num4=np.array(Dataframe4)\n",
    "#转化成numpy矩阵\n",
    "#使用函数 np.array\n",
    "y1=np.array(num3[:,3])\n",
    "Y= np.array(y1).reshape(len(num3),1)\n",
    "one = np.ones((len(num3),1),dtype=np.int64)\n",
    "num3[:,3].fill(1)\n",
    "num3T=(num3.T)\n",
    "a1=np.dot(num3T,num3)\n",
    "a2=np.linalg.inv(a1)\n",
    "a3=np.dot(a2,num3T)\n",
    "B1=np.dot(a3,Y)\n",
    "print(\"B=\")\n",
    "print(B1)"
   ]
  },
  {
   "cell_type": "markdown",
   "id": "fd70f60f",
   "metadata": {},
   "source": [
    "<span style=\"color:purple\">3) 使用求解出来的线性回归模型对测试数据集'test.csv'进行预测，输出可视化结果（比如用seaborn或者matplotlib等可视化库来画出测试数据的散点图以及训练好的模型函数图像）。</span>"
   ]
  },
  {
   "cell_type": "code",
   "execution_count": 62,
   "id": "ef5c034f",
   "metadata": {},
   "outputs": [
    {
     "data": {
      "image/png": "[encoded data removed]",
      "text/plain": [
       "<Figure size 640x480 with 1 Axes>"
      ]
     },
     "metadata": {},
     "output_type": "display_data"
    }
   ],
   "source": [
    "# Your code here\n",
    "#A=np.array([[1,2,3],[4,5,6],[7,8,9]])\n",
    "#x = A[0, :] #从一个矩阵中提取出一行作为一个向量\n",
    "#y1 = np.array([2, 3, 5])\n",
    "#plt.plot(x, y1) #画出折线图\n",
    "#y2 = np.array([2.5, 2.8, 5.3])\n",
    "#plt.plot(x, y2, '.') #画出散点图\n",
    "#plt.show()\n",
    "x=num2[:,0]\n",
    "y=num2[:,1]\n",
    "plt.plot(x,y,'.')\n",
    "plt.show()\n"
   ]
  },
  {
   "cell_type": "markdown",
   "id": "b09a6130",
   "metadata": {},
   "source": [
    "<span style=\"color:purple\">4) 在训练数据集'train2.csv'上求一个三元线性回归模型$\\hat{y}=w_0 + w_1 x_1 + w_2 x_2 + w_3 x_3$的使得损失函数$l(w_0,w_1,w_2,w_3)=\\frac{1}{2}\\sum_{i=1}^m(\\hat{y}^{(i)}-y^{(i)})^2$最小的参数$w_0,w_1,w_2$以及$w_3$。并在测试数据集'test2.csv'上进行预测，输出预测结果的均方误差$MSE(\\hat{y},y)=\\frac{1}{n}\\sum^n_{i=1}(y^{(i)}-\\hat{y}^{(i)})^2$, $n$为测试集中样本个数。</span>"
   ]
  },
  {
   "cell_type": "markdown",
   "id": "1ef7229b",
   "metadata": {},
   "source": [
    "方法① 同2)中的方法③。"
   ]
  },
  {
   "cell_type": "markdown",
   "id": "f232c047",
   "metadata": {},
   "source": [
    "方法② 类似2)中的方法②。算法步骤如下：1.初始化模型参数$w_0,w_1,w_2,w_3$的值；2.在负梯度的方向上更新参数(批量梯度下降、小批量随机梯度下降或者随机梯度下降均可)，并不断迭代这一步骤，更新公式(以小批量随机梯度下降为例)可以写成：$$w_j\\gets w_j-\\frac{\\eta}{\\left|B\\right|}\\sum_{i\\in{B}}x_j^{(i)}(w_0 + w_1 x_1^{(i)}+w_2 x_2^{(i)}+w_3 x_3^{(i)}-y^{(i)}), j=0,1,2,3,$$ 其中$x_0^{(i)}=1$， 其中$\\eta$表示学习率,$B$表示每次迭代中随机抽样的小批量，$\\left|B\\right|$则表示$B$中的样本数量。3. 终止条件为迭代次数达到某一上限或者参数更新的幅度小于某个阈值。"
   ]
  },
  {
   "cell_type": "code",
   "execution_count": 157,
   "id": "55373e74",
   "metadata": {
    "scrolled": false
   },
   "outputs": [
    {
     "name": "stdout",
     "output_type": "stream",
     "text": [
      "初始值w= 6 3 2 1\n",
      "修正后w= 5.963873472857915 1.0109148959526608 2.0867392965931115 2.9628803111671207\n"
     ]
    }
   ],
   "source": [
    "# Your code here\n",
    "w0,w1,w2,w3=6,3,2,1\n",
    "print(\"初始值w=\",w0,w1,w2,w3)\n",
    "yita2=0.1\n",
    "x1=num4[:,0]\n",
    "x2=num4[:,1]\n",
    "x3=num4[:,2]\n",
    "y=num4[:,3]\n",
    "for i in range(1000):\n",
    "    w0=w0-(yita2/len(num4))*(w0+w1*x1[i%len(num4)]+w2*x2[i%len(num4)]+w3*x3[i%len(num4)]-y[i%len(num4)])\n",
    "    w1=w1-(yita2/len(num4))*x1[i%len(num4)]*(w0+w1*x1[i%len(num4)]+w2*x2[i%len(num4)]+w3*x3[i%len(num4)]-y[i%len(num4)])\n",
    "    w2=w2-(yita2/len(num4))*x2[i%len(num4)]*(w0+w1*x1[i%len(num4)]+w2*x2[i%len(num4)]+w3*x3[i%len(num4)]-y[i%len(num4)])\n",
    "    w3=w3-(yita2/len(num4))*x3[i%len(num4)]*(w0+w1*x1[i%len(num4)]+w2*x2[i%len(num4)]+w3*x3[i%len(num4)]-y[i%len(num4)])\n",
    "print(\"修正后w=\",w0,w1,w2,w3)"
   ]
  }
 ],
 "metadata": {
  "kernelspec": {
   "display_name": "Python 3 (ipykernel)",
   "language": "python",
   "name": "python3"
  },
  "language_info": {
   "codemirror_mode": {
    "name": "ipython",
    "version": 3
   },
   "file_extension": ".py",
   "mimetype": "text/x-python",
   "name": "python",
   "nbconvert_exporter": "python",
   "pygments_lexer": "ipython3",
   "version": "3.11.5"
  }
 },
 "nbformat": 4,
 "nbformat_minor": 5
}
