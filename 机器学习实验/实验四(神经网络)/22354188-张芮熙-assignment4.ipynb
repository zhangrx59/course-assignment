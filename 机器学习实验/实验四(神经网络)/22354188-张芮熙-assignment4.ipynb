{
 "cells": [
  {
   "cell_type": "markdown",
   "id": "e59a56ee",
   "metadata": {},
   "source": [
    "**<font color = black size=6>实验四：神经网络中的前向传播与后向传播</font>**"
   ]
  },
  {
   "cell_type": "code",
   "execution_count": 83,
   "id": "62f100c9",
   "metadata": {},
   "outputs": [],
   "source": [
    "import numpy as np\n",
    "import pandas as pd\n",
    "import matplotlib.pyplot as plt"
   ]
  },
  {
   "cell_type": "markdown",
   "id": "eebaf0fe",
   "metadata": {},
   "source": [
    "**<font color = blue size=4>第一部分:PyTorch介绍</font>**"
   ]
  },
  {
   "cell_type": "markdown",
   "id": "2a394db6",
   "metadata": {},
   "source": [
    "这里介绍一小部分PyTorch常用的库和函数，更多需求可参阅[PyTorch官方教程](https://pytorch.org/tutorials/beginner/deep_learning_60min_blitz.html)以及[PyTorch官方文档](https://pytorch.org/docs/stable/index.html)。"
   ]
  },
  {
   "cell_type": "code",
   "execution_count": 84,
   "id": "6fae149b",
   "metadata": {},
   "outputs": [
    {
     "name": "stdout",
     "output_type": "stream",
     "text": [
      "2.1.0+cpu\n"
     ]
    }
   ],
   "source": [
    "import torch # 导入的是 torch 而不是 pytorch\n",
    "print(torch.__version__) # 输出当前pytorch的版本"
   ]
  },
  {
   "cell_type": "markdown",
   "id": "392780bb",
   "metadata": {},
   "source": [
    "1.Tensor"
   ]
  },
  {
   "cell_type": "markdown",
   "id": "904623e4",
   "metadata": {},
   "source": [
    "Tensor与NumPy中的ndarray很相似，但Tensor可以利用GPU来加速计算（虽然本门课不用）。"
   ]
  },
  {
   "cell_type": "markdown",
   "id": "23642996",
   "metadata": {},
   "source": [
    "1.1. Tensor的创建"
   ]
  },
  {
   "cell_type": "code",
   "execution_count": 85,
   "id": "38cdf3ad",
   "metadata": {},
   "outputs": [
    {
     "name": "stdout",
     "output_type": "stream",
     "text": [
      "tensor([[0., 0., 0.],\n",
      "        [0., 0., 0.]])\n",
      "tensor([[1, 2, 3],\n",
      "        [4, 5, 6]])\n",
      "tensor([[0.4537, 0.4752, 0.2058, 0.3054],\n",
      "        [0.9185, 0.4878, 0.0036, 0.1652],\n",
      "        [0.6361, 0.7840, 0.3336, 0.3593]])\n",
      "tensor([[0., 0., 0.],\n",
      "        [0., 0., 0.]])\n",
      "tensor([[1., 1., 1.],\n",
      "        [1., 1., 1.]])\n"
     ]
    }
   ],
   "source": [
    "# 创建一个未初始化的Tensor\n",
    "x = torch.empty(2, 3)\n",
    "print(x)\n",
    "\n",
    "# 从一个列表创建Tensor\n",
    "x = torch.tensor([[1,2,3],[4,5,6]])\n",
    "print(x)\n",
    "\n",
    "# 创建一个随机Tensor\n",
    "x = torch.rand([3, 4])\n",
    "print(x)\n",
    "\n",
    "# 创建一个全零Tensor\n",
    "x = torch.zeros([2, 3])\n",
    "print(x)\n",
    "\n",
    "# 创建一个全一Tensor\n",
    "x = torch.ones([2, 3])\n",
    "print(x)"
   ]
  },
  {
   "cell_type": "markdown",
   "id": "9f354fd4",
   "metadata": {},
   "source": [
    "1.2. Tensor的运算"
   ]
  },
  {
   "cell_type": "code",
   "execution_count": 86,
   "id": "8070a903",
   "metadata": {},
   "outputs": [
    {
     "name": "stdout",
     "output_type": "stream",
     "text": [
      "tensor([[7, 7, 7],\n",
      "        [7, 7, 7]])\n",
      "tensor([[-5, -3, -1],\n",
      "        [ 1,  3,  5]])\n",
      "tensor([[ 6, 10, 12],\n",
      "        [12, 10,  6]])\n",
      "tensor([[ 6, 10, 12],\n",
      "        [12, 10,  6]])\n",
      "tensor([[28, 10],\n",
      "        [73, 28]])\n",
      "tensor([[28, 10],\n",
      "        [73, 28]])\n",
      "tensor([[1, 2],\n",
      "        [3, 4],\n",
      "        [5, 6]])\n",
      "tensor([[1, 2, 3],\n",
      "        [4, 5, 6],\n",
      "        [6, 5, 4],\n",
      "        [3, 2, 1]])\n",
      "tensor([[1, 2, 3, 6, 5, 4],\n",
      "        [4, 5, 6, 3, 2, 1]])\n"
     ]
    }
   ],
   "source": [
    "# 加减法\n",
    "x = torch.tensor([[1,2,3],[4,5,6]])\n",
    "y = torch.tensor([[6,5,4],[3,2,1]])\n",
    "print(x + y)\n",
    "print(x - y)\n",
    "\n",
    "# 对应位置相乘\n",
    "print(x * y)\n",
    "print(x.mul(y))\n",
    "\n",
    "# 矩阵乘法\n",
    "print(x.matmul(y.T))\n",
    "print(x @ y.T)\n",
    "\n",
    "# reshape\n",
    "print(x.reshape(3, 2))\n",
    "\n",
    "# 拼接\n",
    "print(torch.cat([x,y], dim=0)) # 纵向拼接\n",
    "print(torch.cat([x,y], dim=1)) # 横向拼接"
   ]
  },
  {
   "cell_type": "markdown",
   "id": "95961cee",
   "metadata": {},
   "source": [
    "1.3. Tensor与ndarray的相互转换"
   ]
  },
  {
   "cell_type": "code",
   "execution_count": 87,
   "id": "d1269212",
   "metadata": {},
   "outputs": [
    {
     "name": "stdout",
     "output_type": "stream",
     "text": [
      "tensor([[1, 2, 3],\n",
      "        [4, 5, 6]])\n",
      "[[1 2 3]\n",
      " [4 5 6]]\n",
      "[[0 0 0]\n",
      " [0 0 0]]\n",
      "tensor([[0, 0, 0],\n",
      "        [0, 0, 0]])\n"
     ]
    }
   ],
   "source": [
    "x = torch.tensor([[1,2,3],[4,5,6]])\n",
    "print(x)\n",
    "\n",
    "# 从Tensor转换到ndarray\n",
    "y = x.numpy()\n",
    "print(y)\n",
    "\n",
    "# Tensor与ndarray是共享空间的\n",
    "x[:]=0\n",
    "print(y)\n",
    "\n",
    "# 从ndarray到Tensor\n",
    "z = torch.from_numpy(y)\n",
    "print(z)"
   ]
  },
  {
   "cell_type": "markdown",
   "id": "bb6c36a7",
   "metadata": {},
   "source": [
    "2.自动求梯度"
   ]
  },
  {
   "cell_type": "code",
   "execution_count": 88,
   "id": "3b30fec3",
   "metadata": {},
   "outputs": [
    {
     "name": "stdout",
     "output_type": "stream",
     "text": [
      "tensor([[3., 4.]]) tensor(1.)\n",
      "tensor([0.1966, 0.1966, 0.1966, 0.1966, 0.1966, 0.1966, 0.1966, 0.1966, 0.1966,\n",
      "        0.1966, 0.1966, 0.1966, 0.1966, 0.1966, 0.1966, 0.1966, 0.1966, 0.1966,\n",
      "        0.1966, 0.1966])\n",
      "tensor(4.)\n",
      "tensor(5.)\n",
      "tensor(0.)\n"
     ]
    }
   ],
   "source": [
    "a = torch.tensor([[1.,2.]], requires_grad=True) # 把requires_grad设为True, 开始跟踪基于它的所有运算\n",
    "b = torch.tensor([[3.],[4.]])\n",
    "c = torch.tensor(5., requires_grad=True)\n",
    "y = a @ b + c\n",
    "y.backward() #自动计算梯度\n",
    "print(a.grad, c.grad) #输出叶子节点a和c的梯度\n",
    "\n",
    "# 可支持多种运算求梯度，如torch.mean(),torch.sum()等\n",
    "a = torch.ones(20, requires_grad=True)\n",
    "z = torch.sum(torch.sigmoid(a))\n",
    "z.backward()\n",
    "print(a.grad)\n",
    "\n",
    "# 多次求梯度时梯度会累加，可使用tensor.grad.zero_()进行手动清零\n",
    "x = torch.tensor(2., requires_grad=True)\n",
    "y = x ** 2\n",
    "y.backward()\n",
    "print(x.grad)\n",
    "z = x + 3\n",
    "z.backward()\n",
    "print(x.grad)\n",
    "x.grad.zero_()\n",
    "print(x.grad)"
   ]
  },
  {
   "cell_type": "markdown",
   "id": "96d22808",
   "metadata": {},
   "source": [
    "3. 神经网络（官方教程中的例子）"
   ]
  },
  {
   "cell_type": "code",
   "execution_count": 89,
   "id": "207b6433",
   "metadata": {
    "scrolled": true
   },
   "outputs": [
    {
     "name": "stdout",
     "output_type": "stream",
     "text": [
      "Net(\n",
      "  (conv1): Conv2d(1, 6, kernel_size=(5, 5), stride=(1, 1))\n",
      "  (conv2): Conv2d(6, 16, kernel_size=(5, 5), stride=(1, 1))\n",
      "  (fc1): Linear(in_features=400, out_features=120, bias=True)\n",
      "  (fc2): Linear(in_features=120, out_features=84, bias=True)\n",
      "  (fc3): Linear(in_features=84, out_features=10, bias=True)\n",
      ")\n"
     ]
    }
   ],
   "source": [
    "import torch\n",
    "import torch.nn as nn\n",
    "import torch.nn.functional as F\n",
    "\n",
    "# 继承自nn.Module\n",
    "class Net(nn.Module):\n",
    "\n",
    "    def __init__(self):\n",
    "        super(Net, self).__init__()\n",
    "        # 卷积层\n",
    "        # 1 input image channel, 6 output channels, 5x5 square convolution\n",
    "        # kernel\n",
    "        self.conv1 = nn.Conv2d(1, 6, 5)\n",
    "        self.conv2 = nn.Conv2d(6, 16, 5)\n",
    "        # an affine operation: y = Wx + b\n",
    "        # nn.Linear(in_features, out_features, bias=True, device=None, dtype=None)\n",
    "        # 其中in_features表示有多少个输入，out_features表示该层有多少个神经元\n",
    "        self.fc1 = nn.Linear(16 * 5 * 5, 120)  # 5*5 from image dimension\n",
    "        self.fc2 = nn.Linear(120, 84)\n",
    "        self.fc3 = nn.Linear(84, 10)\n",
    "\n",
    "    def forward(self, x):\n",
    "        # Max pooling over a (2, 2) window\n",
    "        x = F.max_pool2d(F.relu(self.conv1(x)), (2, 2))\n",
    "        # If the size is a square, you can specify with a single number\n",
    "        x = F.max_pool2d(F.relu(self.conv2(x)), 2)\n",
    "        x = torch.flatten(x, 1) # flatten all dimensions except the batch dimension\n",
    "        x = F.relu(self.fc1(x))\n",
    "        x = F.relu(self.fc2(x))\n",
    "        x = self.fc3(x)\n",
    "        return x\n",
    "\n",
    "\n",
    "net = Net()\n",
    "print(net)"
   ]
  },
  {
   "cell_type": "code",
   "execution_count": 90,
   "id": "6c2a943f",
   "metadata": {},
   "outputs": [
    {
     "name": "stdout",
     "output_type": "stream",
     "text": [
      "10\n",
      "torch.Size([6, 1, 5, 5])\n"
     ]
    }
   ],
   "source": [
    "# 该神经网络中可学习的参数可以通过net.parameters()访问\n",
    "params = list(net.parameters())\n",
    "print(len(params))\n",
    "print(params[0].size())  # conv1's .weight"
   ]
  },
  {
   "cell_type": "code",
   "execution_count": 91,
   "id": "b733263e",
   "metadata": {},
   "outputs": [
    {
     "name": "stdout",
     "output_type": "stream",
     "text": [
      "tensor([[ 0.0279, -0.0320,  0.0505, -0.0042, -0.0875, -0.0619,  0.0767, -0.0196,\n",
      "          0.0097,  0.0287]], grad_fn=<AddmmBackward0>)\n"
     ]
    }
   ],
   "source": [
    "# 随机生成一个输入送入net中，除了第0维是样本个数外，其余维度要与forward()参数中x的维度对应上\n",
    "input = torch.randn(1, 1, 32, 32) # 1个样本，该样本是有1个通道的32×32的图像\n",
    "out = net(input) # 进行一次forward()前向传播\n",
    "print(out)"
   ]
  },
  {
   "cell_type": "code",
   "execution_count": 92,
   "id": "168659b3",
   "metadata": {},
   "outputs": [],
   "source": [
    "net.zero_grad() # 手动清零神经网络中参数的梯度\n",
    "out.backward(torch.randn(1, 10)) # 用随机梯度进行一次backward()后向传播来计算梯度"
   ]
  },
  {
   "cell_type": "code",
   "execution_count": 93,
   "id": "af35f14f",
   "metadata": {},
   "outputs": [
    {
     "name": "stdout",
     "output_type": "stream",
     "text": [
      "tensor(0.3370, grad_fn=<MseLossBackward0>)\n"
     ]
    }
   ],
   "source": [
    "output = net(input)\n",
    "target = torch.randn(10)  # a dummy target, for example\n",
    "target = target.view(1, -1)  # make it the same shape as output\n",
    "# nn模块提供了许多种类的损失函数，如nn.CrossEntropyLoss()、nn.MSELoss()等等\n",
    "criterion = nn.MSELoss()\n",
    "\n",
    "loss = criterion(output, target)\n",
    "print(loss)"
   ]
  },
  {
   "cell_type": "markdown",
   "id": "1428f7ce",
   "metadata": {},
   "source": [
    "计算图如下：\n",
    "input -> conv2d -> relu -> maxpool2d -> conv2d -> relu -> maxpool2d\n",
    "      -> flatten -> linear -> relu -> linear -> relu -> linear\n",
    "      -> MSELoss\n",
    "      -> loss"
   ]
  },
  {
   "cell_type": "code",
   "execution_count": 94,
   "id": "e9ada5be",
   "metadata": {},
   "outputs": [
    {
     "name": "stdout",
     "output_type": "stream",
     "text": [
      "<MseLossBackward0 object at 0x000002167E807C40>\n",
      "<AddmmBackward0 object at 0x000002167E807610>\n",
      "<AccumulateGrad object at 0x000002167E807C40>\n"
     ]
    }
   ],
   "source": [
    "# 查看计算图中的函数\n",
    "print(loss.grad_fn)  # MSELoss\n",
    "print(loss.grad_fn.next_functions[0][0])  # Linear\n",
    "print(loss.grad_fn.next_functions[0][0].next_functions[0][0])  # ReLU"
   ]
  },
  {
   "cell_type": "code",
   "execution_count": 95,
   "id": "854ee4d1",
   "metadata": {},
   "outputs": [
    {
     "name": "stdout",
     "output_type": "stream",
     "text": [
      "conv1.bias.grad before backward\n",
      "None\n",
      "conv1.bias.grad after backward\n",
      "tensor([-0.0041, -0.0018,  0.0104,  0.0061, -0.0167,  0.0003])\n"
     ]
    }
   ],
   "source": [
    "net.zero_grad()     # zeroes the gradient buffers of all parameters\n",
    "\n",
    "print('conv1.bias.grad before backward')\n",
    "print(net.conv1.bias.grad)\n",
    "\n",
    "# 进行一次后向传播\n",
    "loss.backward()\n",
    "\n",
    "print('conv1.bias.grad after backward')\n",
    "print(net.conv1.bias.grad)"
   ]
  },
  {
   "cell_type": "code",
   "execution_count": 96,
   "id": "d7187507",
   "metadata": {},
   "outputs": [],
   "source": [
    "# 用梯度下降法(手动)更新net中的参数\n",
    "learning_rate = 0.01\n",
    "for f in net.parameters():\n",
    "    f.data.sub_(f.grad.data * learning_rate)"
   ]
  },
  {
   "cell_type": "code",
   "execution_count": 97,
   "id": "06d237aa",
   "metadata": {},
   "outputs": [],
   "source": [
    "# 用PyTorch的优化器来更新net中的参数\n",
    "import torch.optim as optim\n",
    "\n",
    "# create your optimizer\n",
    "optimizer = optim.SGD(net.parameters(), lr=0.01)\n",
    "\n",
    "# 在每次循环中应该做的事:\n",
    "optimizer.zero_grad()   # 把梯度清零\n",
    "output = net(input) # 进行一次前向传播\n",
    "loss = criterion(output, target) # 计算误差\n",
    "loss.backward() # 后向传播\n",
    "optimizer.step()    # 参数更新"
   ]
  },
  {
   "cell_type": "markdown",
   "id": "50be2d1f",
   "metadata": {},
   "source": [
    "**<font color = blue size=4>第二部分:实验内容</font>**"
   ]
  },
  {
   "cell_type": "markdown",
   "id": "ba5214e5",
   "metadata": {},
   "source": [
    "[Red Wine Quality](https://www.kaggle.com/datasets/uciml/red-wine-quality-cortez-et-al-2009)是一个关于红酒品质的数据集，总共有1599个样本，每个样本包含11个(都是连续的)特征以及1个标签，每个标签的取值是连续的。本次实验已经按照8：2的比例划分成了训练数据集'wine_train.csv'以及测试数据集'wine_test.csv'，且每个数据集都已经做了归一化处理。"
   ]
  },
  {
   "cell_type": "markdown",
   "id": "d4d9ccac",
   "metadata": {},
   "source": [
    "<span style=\"color:purple\">1) 读入训练数据集'wine_train.csv'与测试数据集'wine_test.csv'。</span>"
   ]
  },
  {
   "cell_type": "code",
   "execution_count": 113,
   "id": "c759660f",
   "metadata": {},
   "outputs": [
    {
     "name": "stdout",
     "output_type": "stream",
     "text": [
      "[0.4 0.6 0.8 ... 0.6 0.4 0.4]\n",
      "[0.6 0.2 0.6 0.4 0.6 0.4 0.8 0.4 0.8 0.6 0.4 0.6 0.4 0.6 0.6 0.8 0.4 0.4\n",
      " 0.4 0.6 0.6 0.  0.4 0.8 0.6 0.6 0.8 0.6 0.4 0.6 0.4 0.4 0.4 0.8 0.4 0.8\n",
      " 0.6 0.6 0.6 0.4 0.4 0.2 0.6 0.4 0.6 0.4 0.4 0.6 0.8 0.6 0.8 0.6 0.6 0.4\n",
      " 0.6 0.8 0.4 0.4 0.6 0.8 0.6 0.6 1.  0.4 0.4 0.4 0.6 0.6 0.6 0.4 0.4 0.6\n",
      " 0.4 0.4 0.8 0.4 0.6 0.4 0.6 0.8 0.4 0.8 0.6 0.4 0.6 0.4 0.4 0.4 0.6 0.4\n",
      " 0.6 0.4 0.4 0.6 0.6 0.4 0.4 0.6 0.4 0.6 0.6 0.6 0.6 0.6 0.4 0.4 0.6 0.6\n",
      " 0.4 0.2 0.6 0.8 0.6 0.4 0.6 0.6 0.8 0.6 0.6 0.8 0.6 0.4 0.4 0.2 0.4 0.8\n",
      " 0.6 0.4 0.6 0.4 0.6 0.6 0.6 0.8 1.  0.4 0.4 0.4 0.4 0.8 0.4 0.4 0.6 0.4\n",
      " 0.6 0.4 0.2 0.4 0.6 0.4 0.4 0.4 0.6 0.6 0.6 0.4 0.4 0.8 0.6 0.4 0.4 0.4\n",
      " 0.8 0.6 0.8 0.4 0.4 0.8 0.8 0.6 0.4 0.4 0.4 0.6 0.8 0.8 0.4 0.4 0.4 0.6\n",
      " 0.8 0.4 0.6 0.8 0.4 0.8 0.6 0.4 0.4 0.4 0.8 0.6 0.8 0.8 0.6 0.4 0.6 0.4\n",
      " 0.6 0.4 0.6 0.4 0.6 0.4 0.8 0.4 0.8 0.4 0.6 0.6 0.4 0.6 0.8 0.6 0.4 0.4\n",
      " 0.4 0.4 0.6 0.6 0.4 0.6 0.4 0.6 0.8 0.8 0.4 0.6 0.4 0.8 0.6 0.4 0.4 0.4\n",
      " 0.4 0.4 0.4 0.6 0.6 0.6 0.6 0.4 0.6 0.4 0.4 0.8 0.4 0.6 0.6 0.4 0.6 0.4\n",
      " 0.4 0.8 0.4 0.4 0.4 0.4 0.4 0.8 0.4 0.4 0.6 0.6 0.  0.6 0.2 0.  0.4 0.4\n",
      " 0.8 0.8 0.6 0.4 0.4 0.2 0.6 0.4 0.8 0.6 0.6 0.4 0.4 0.4 0.6 0.6 0.4 0.4\n",
      " 0.6 0.8 0.4 0.6 0.6 0.6 0.8 0.4 0.4 0.6 0.4 0.4 0.6 0.4 0.6 0.4 0.2 0.6\n",
      " 0.4 0.4 0.6 0.6 0.6 0.6 0.4 0.8 0.4 0.6 0.6 0.4 0.4 0.4]\n",
      "1279\n",
      "320\n"
     ]
    }
   ],
   "source": [
    "# -- Your code here --\n",
    "import os\n",
    "os.environ[\"KMP_DUPLICATE_LIB_OK\"]=\"TRUE\"\n",
    "import pandas as pd\n",
    "import torch\n",
    "import torch.nn as nn\n",
    "import torch.nn.functional as F\n",
    "import matplotlib.pyplot as plt\n",
    "# 读入数据\n",
    "train_data = pd.read_csv('wine_train.csv')\n",
    "test_data = pd.read_csv('wine_test.csv')\n",
    "# 分离特征和标签\n",
    "X_train = train_data.iloc[:, :-1].values  # 所有行，除了最后一列的数据\n",
    "y_train = train_data.iloc[:, -1].values  # 所有行，只有最后一列的数据\n",
    "\n",
    "X_test = test_data.iloc[:, :-1].values\n",
    "y_test = test_data.iloc[:, -1].values\n",
    "print(y_train)\n",
    "print(y_test)\n",
    "print(len(y_train))\n",
    "print(len(y_test))"
   ]
  },
  {
   "cell_type": "markdown",
   "id": "d77619fd",
   "metadata": {},
   "source": [
    "<span style=\"color:purple\">2) 利用线性层和激活函数搭建一个神经网络，要求输入和输出维度与数据集维度一致，而神经网络深度、隐藏层大小、激活函数种类等超参数自行调整。</span>"
   ]
  },
  {
   "cell_type": "code",
   "execution_count": 114,
   "id": "26359bae",
   "metadata": {},
   "outputs": [],
   "source": [
    "# -- Your code here --\n",
    "# 定义网络结构\n",
    "class Net(nn.Module):\n",
    "    def __init__(self):\n",
    "        super(Net, self).__init__()\n",
    "        self.fc1 = nn.Linear(11, 12)  # 输入层到隐藏层1\n",
    "        self.fc2 = nn.Linear(12, 12)#隐藏层1到隐藏层2\n",
    "        self.fc3 = nn.Linear(12, 1)   # 隐藏层2到输出层\n",
    "\n",
    "    def forward(self, x):\n",
    "        x = F.relu(self.fc1(x))  # 激活函数为ReLU\n",
    "        x = F.relu(self.fc2(x))\n",
    "        x = self.fc3(x)\n",
    "        return x\n",
    "\n",
    "net = Net()\n",
    "# 转换数据为torch张量\n",
    "X_train_torch = torch.tensor(X_train, dtype=torch.float32)\n",
    "y_train_torch = torch.tensor(y_train, dtype=torch.float32).view(-1, 1)  \n",
    "# 调整形状以匹配输出（只有一个标签值）\n",
    "X_test_torch = torch.tensor(X_test, dtype=torch.float32)\n",
    "y_test_torch = torch.tensor(y_test, dtype=torch.float32).view(-1, 1)"
   ]
  },
  {
   "cell_type": "markdown",
   "id": "9b706eea",
   "metadata": {},
   "source": [
    "<span style=\"color:purple\">3) 用梯度下降法进行模型参数更新，记下每轮迭代中的训练损失和测试损失。</span>"
   ]
  },
  {
   "cell_type": "code",
   "execution_count": 115,
   "id": "cad2f094",
   "metadata": {},
   "outputs": [
    {
     "name": "stdout",
     "output_type": "stream",
     "text": [
      "Epoch 1/100, Training Loss: 0.25737208127975464, Test Loss: 0.2474537342786789\n",
      "Epoch 2/100, Training Loss: 0.24325941503047943, Test Loss: 0.2338804006576538\n",
      "Epoch 3/100, Training Loss: 0.22998593747615814, Test Loss: 0.2211264669895172\n",
      "Epoch 4/100, Training Loss: 0.2174992561340332, Test Loss: 0.20913347601890564\n",
      "Epoch 5/100, Training Loss: 0.205754354596138, Test Loss: 0.19785836338996887\n",
      "Epoch 6/100, Training Loss: 0.19470998644828796, Test Loss: 0.18725840747356415\n",
      "Epoch 7/100, Training Loss: 0.18432529270648956, Test Loss: 0.17729365825653076\n",
      "Epoch 8/100, Training Loss: 0.1745545119047165, Test Loss: 0.1679253876209259\n",
      "Epoch 9/100, Training Loss: 0.16536477208137512, Test Loss: 0.15912042558193207\n",
      "Epoch 10/100, Training Loss: 0.1567249745130539, Test Loss: 0.15084345638751984\n",
      "Epoch 11/100, Training Loss: 0.14860069751739502, Test Loss: 0.14305968582630157\n",
      "Epoch 12/100, Training Loss: 0.14095672965049744, Test Loss: 0.13573995232582092\n",
      "Epoch 13/100, Training Loss: 0.13376468420028687, Test Loss: 0.1288560926914215\n",
      "Epoch 14/100, Training Loss: 0.12699665129184723, Test Loss: 0.1223858967423439\n",
      "Epoch 15/100, Training Loss: 0.1206342801451683, Test Loss: 0.11630769819021225\n",
      "Epoch 16/100, Training Loss: 0.11465388536453247, Test Loss: 0.11059751361608505\n",
      "Epoch 17/100, Training Loss: 0.10903162509202957, Test Loss: 0.10522903501987457\n",
      "Epoch 18/100, Training Loss: 0.1037444919347763, Test Loss: 0.1001846045255661\n",
      "Epoch 19/100, Training Loss: 0.09877321124076843, Test Loss: 0.09545072913169861\n",
      "Epoch 20/100, Training Loss: 0.094106025993824, Test Loss: 0.0910080298781395\n",
      "Epoch 21/100, Training Loss: 0.08972584456205368, Test Loss: 0.08684156835079193\n",
      "Epoch 22/100, Training Loss: 0.08561664819717407, Test Loss: 0.08293417096138\n",
      "Epoch 23/100, Training Loss: 0.08176073431968689, Test Loss: 0.07926821708679199\n",
      "Epoch 24/100, Training Loss: 0.07813923805952072, Test Loss: 0.07582943141460419\n",
      "Epoch 25/100, Training Loss: 0.07473953813314438, Test Loss: 0.07260453701019287\n",
      "Epoch 26/100, Training Loss: 0.07155001163482666, Test Loss: 0.06957747787237167\n",
      "Epoch 27/100, Training Loss: 0.0685582086443901, Test Loss: 0.06673658639192581\n",
      "Epoch 28/100, Training Loss: 0.06575136631727219, Test Loss: 0.06407412141561508\n",
      "Epoch 29/100, Training Loss: 0.0631200447678566, Test Loss: 0.06158145144581795\n",
      "Epoch 30/100, Training Loss: 0.06065552309155464, Test Loss: 0.059248607605695724\n",
      "Epoch 31/100, Training Loss: 0.058347199112176895, Test Loss: 0.05706416815519333\n",
      "Epoch 32/100, Training Loss: 0.05618441104888916, Test Loss: 0.055018842220306396\n",
      "Epoch 33/100, Training Loss: 0.05415843054652214, Test Loss: 0.05310569331049919\n",
      "Epoch 34/100, Training Loss: 0.0522625632584095, Test Loss: 0.051315438002347946\n",
      "Epoch 35/100, Training Loss: 0.05048757046461105, Test Loss: 0.049641527235507965\n",
      "Epoch 36/100, Training Loss: 0.048827171325683594, Test Loss: 0.04807617515325546\n",
      "Epoch 37/100, Training Loss: 0.047273751348257065, Test Loss: 0.04661356657743454\n",
      "Epoch 38/100, Training Loss: 0.04582175612449646, Test Loss: 0.045246802270412445\n",
      "Epoch 39/100, Training Loss: 0.04446389526128769, Test Loss: 0.04396896809339523\n",
      "Epoch 40/100, Training Loss: 0.043192919343709946, Test Loss: 0.04277566820383072\n",
      "Epoch 41/100, Training Loss: 0.04200558364391327, Test Loss: 0.04166161268949509\n",
      "Epoch 42/100, Training Loss: 0.040896084159612656, Test Loss: 0.04062154144048691\n",
      "Epoch 43/100, Training Loss: 0.03985951468348503, Test Loss: 0.039650846272706985\n",
      "Epoch 44/100, Training Loss: 0.03889140486717224, Test Loss: 0.03874509409070015\n",
      "Epoch 45/100, Training Loss: 0.03798738867044449, Test Loss: 0.03790014237165451\n",
      "Epoch 46/100, Training Loss: 0.03714348375797272, Test Loss: 0.037111978977918625\n",
      "Epoch 47/100, Training Loss: 0.03635574132204056, Test Loss: 0.03637636452913284\n",
      "Epoch 48/100, Training Loss: 0.035620588809251785, Test Loss: 0.03569037839770317\n",
      "Epoch 49/100, Training Loss: 0.03493454307317734, Test Loss: 0.03505079820752144\n",
      "Epoch 50/100, Training Loss: 0.034294359385967255, Test Loss: 0.03445436805486679\n",
      "Epoch 51/100, Training Loss: 0.0336964949965477, Test Loss: 0.033898163586854935\n",
      "Epoch 52/100, Training Loss: 0.03313840180635452, Test Loss: 0.03337935358285904\n",
      "Epoch 53/100, Training Loss: 0.032617781311273575, Test Loss: 0.032895278185606\n",
      "Epoch 54/100, Training Loss: 0.032132234424352646, Test Loss: 0.032444246113300323\n",
      "Epoch 55/100, Training Loss: 0.031679410487413406, Test Loss: 0.032023780047893524\n",
      "Epoch 56/100, Training Loss: 0.03125695884227753, Test Loss: 0.031632110476493835\n",
      "Epoch 57/100, Training Loss: 0.030863068997859955, Test Loss: 0.031267277896404266\n",
      "Epoch 58/100, Training Loss: 0.03049580007791519, Test Loss: 0.030927497893571854\n",
      "Epoch 59/100, Training Loss: 0.030153386294841766, Test Loss: 0.030611073598265648\n",
      "Epoch 60/100, Training Loss: 0.029834160581231117, Test Loss: 0.030316341668367386\n",
      "Epoch 61/100, Training Loss: 0.029536500573158264, Test Loss: 0.030041879042983055\n",
      "Epoch 62/100, Training Loss: 0.029259024187922478, Test Loss: 0.029786327853798866\n",
      "Epoch 63/100, Training Loss: 0.02900032512843609, Test Loss: 0.029548317193984985\n",
      "Epoch 64/100, Training Loss: 0.028759056702256203, Test Loss: 0.029326658695936203\n",
      "Epoch 65/100, Training Loss: 0.028534090146422386, Test Loss: 0.029120227321982384\n",
      "Epoch 66/100, Training Loss: 0.028324369341135025, Test Loss: 0.028928007930517197\n",
      "Epoch 67/100, Training Loss: 0.02812882885336876, Test Loss: 0.028749030083417892\n",
      "Epoch 68/100, Training Loss: 0.027946487069129944, Test Loss: 0.028582334518432617\n",
      "Epoch 69/100, Training Loss: 0.027776429429650307, Test Loss: 0.028427090495824814\n",
      "Epoch 70/100, Training Loss: 0.027617858722805977, Test Loss: 0.028282513841986656\n",
      "Epoch 71/100, Training Loss: 0.02746998332440853, Test Loss: 0.028147852048277855\n",
      "Epoch 72/100, Training Loss: 0.02733207866549492, Test Loss: 0.028022397309541702\n",
      "Epoch 73/100, Training Loss: 0.027203448116779327, Test Loss: 0.027905503287911415\n",
      "Epoch 74/100, Training Loss: 0.027083437889814377, Test Loss: 0.027796611189842224\n",
      "Epoch 75/100, Training Loss: 0.026971446350216866, Test Loss: 0.027695149183273315\n",
      "Epoch 76/100, Training Loss: 0.026866937056183815, Test Loss: 0.027600575238466263\n",
      "Epoch 77/100, Training Loss: 0.026769373565912247, Test Loss: 0.02751239575445652\n",
      "Epoch 78/100, Training Loss: 0.026678266003727913, Test Loss: 0.027430156245827675\n",
      "Epoch 79/100, Training Loss: 0.026593158021569252, Test Loss: 0.027353446930646896\n",
      "Epoch 80/100, Training Loss: 0.026513660326600075, Test Loss: 0.027281884104013443\n",
      "Epoch 81/100, Training Loss: 0.026439383625984192, Test Loss: 0.027214908972382545\n",
      "Epoch 82/100, Training Loss: 0.026369960978627205, Test Loss: 0.027152229100465775\n",
      "Epoch 83/100, Training Loss: 0.026305055245757103, Test Loss: 0.02709365263581276\n",
      "Epoch 84/100, Training Loss: 0.02624434232711792, Test Loss: 0.027038896456360817\n",
      "Epoch 85/100, Training Loss: 0.02618752419948578, Test Loss: 0.02698769047856331\n",
      "Epoch 86/100, Training Loss: 0.026134338229894638, Test Loss: 0.02693977579474449\n",
      "Epoch 87/100, Training Loss: 0.026084527373313904, Test Loss: 0.026894912123680115\n",
      "Epoch 88/100, Training Loss: 0.02603786438703537, Test Loss: 0.026852872222661972\n",
      "Epoch 89/100, Training Loss: 0.025994105264544487, Test Loss: 0.026813466101884842\n",
      "Epoch 90/100, Training Loss: 0.025953052565455437, Test Loss: 0.026776498183608055\n",
      "Epoch 91/100, Training Loss: 0.025914527475833893, Test Loss: 0.02674177661538124\n",
      "Epoch 92/100, Training Loss: 0.0258783008903265, Test Loss: 0.026709115132689476\n",
      "Epoch 93/100, Training Loss: 0.025844212621450424, Test Loss: 0.02667839452624321\n",
      "Epoch 94/100, Training Loss: 0.025812141597270966, Test Loss: 0.02664947137236595\n",
      "Epoch 95/100, Training Loss: 0.025781936943531036, Test Loss: 0.026622211560606956\n",
      "Epoch 96/100, Training Loss: 0.025753486901521683, Test Loss: 0.026596451178193092\n",
      "Epoch 97/100, Training Loss: 0.02572666108608246, Test Loss: 0.026572123169898987\n",
      "Epoch 98/100, Training Loss: 0.025701332837343216, Test Loss: 0.026549112051725388\n",
      "Epoch 99/100, Training Loss: 0.025677401572465897, Test Loss: 0.02652733586728573\n",
      "Epoch 100/100, Training Loss: 0.025654755532741547, Test Loss: 0.026506688445806503\n"
     ]
    }
   ],
   "source": [
    "# -- Your code here --\n",
    "# 损失函数和优化器\n",
    "criterion = nn.MSELoss()  # 均方误差\n",
    "optimizer = torch.optim.SGD(net.parameters(), lr=0.01)  # 随机梯度下降\n",
    "\n",
    "# 记录损失\n",
    "train_losses = []\n",
    "test_losses = []\n",
    "\n",
    "# 训练过程\n",
    "epochs = 100\n",
    "for epoch in range(epochs):\n",
    "    optimizer.zero_grad()   # 清除旧的梯度\n",
    "    outputs = net(X_train_torch)  # 前向传播\n",
    "    loss = criterion(outputs, y_train_torch)  # 计算损失\n",
    "    loss.backward()  # 反向传播\n",
    "    optimizer.step()  # 更新权重\n",
    "    train_losses.append(loss.item())# 记录训练损失\n",
    "\n",
    "    # 测试损失\n",
    "    with torch.no_grad():  # 确保不会计算梯度\n",
    "        outputs_test = net(X_test_torch)\n",
    "        loss_test = criterion(outputs_test, y_test_torch)\n",
    "        test_losses.append(loss_test.item())\n",
    "\n",
    "    print(f'Epoch {epoch+1}/{epochs}, Training Loss: {loss.item()}, Test Loss: {loss_test.item()}')"
   ]
  },
  {
   "cell_type": "markdown",
   "id": "ff5ff45e",
   "metadata": {},
   "source": [
    "<span style=\"color:purple\">4) 画出训练损失和测试损失关于迭代轮数的折线图。</span>"
   ]
  },
  {
   "cell_type": "code",
   "execution_count": 116,
   "id": "3ba3071f",
   "metadata": {},
   "outputs": [
    {
     "data": {
      "image/png": "[encoded data removed]",
      "text/plain": [
       "<Figure size 640x480 with 1 Axes>"
      ]
     },
     "metadata": {},
     "output_type": "display_data"
    }
   ],
   "source": [
    "# -- Your code here --\n",
    "# 绘制损失曲线\n",
    "plt.plot(train_losses, label='Training Loss')\n",
    "plt.plot(test_losses, label='Test Loss')\n",
    "plt.xlabel('Epochs')\n",
    "plt.ylabel('Loss')\n",
    "plt.legend()#显示标签\n",
    "plt.show()"
   ]
  }
 ],
 "metadata": {
  "kernelspec": {
   "display_name": "Python 3 (ipykernel)",
   "language": "python",
   "name": "python3"
  },
  "language_info": {
   "codemirror_mode": {
    "name": "ipython",
    "version": 3
   },
   "file_extension": ".py",
   "mimetype": "text/x-python",
   "name": "python",
   "nbconvert_exporter": "python",
   "pygments_lexer": "ipython3",
   "version": "3.11.5"
  }
 },
 "nbformat": 4,
 "nbformat_minor": 5
}
