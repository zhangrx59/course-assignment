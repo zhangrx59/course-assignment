{
 "cells": [
  {
   "cell_type": "markdown",
   "id": "b7f9ce31",
   "metadata": {},
   "source": [
    "# 一、熟悉python基础语法和jupyter notebook的使用"
   ]
  },
  {
   "cell_type": "markdown",
   "id": "c2b4b112",
   "metadata": {},
   "source": [
    "<span style=\"color:purple\">1)输出语句</span>"
   ]
  },
  {
   "cell_type": "code",
   "execution_count": 1,
   "id": "b1ed8417",
   "metadata": {},
   "outputs": [
    {
     "name": "stdout",
     "output_type": "stream",
     "text": [
      "Hello, Python!\n"
     ]
    }
   ],
   "source": [
    "print (\"Hello, Python!\")"
   ]
  },
  {
   "cell_type": "markdown",
   "id": "de5a4b48",
   "metadata": {},
   "source": [
    "<span style=\"color:purple\">2)行和缩进</span>"
   ]
  },
  {
   "cell_type": "code",
   "execution_count": 2,
   "id": "7268bae8",
   "metadata": {},
   "outputs": [
    {
     "name": "stdout",
     "output_type": "stream",
     "text": [
      "正确的缩进格式\n",
      "错误的缩进格式\n"
     ]
    }
   ],
   "source": [
    "#python中通过缩进来进行模块编写\n",
    "if True:\n",
    "    print (\"正确的缩进格式\")\n",
    "else:\n",
    "    print (\"False\")\n",
    "print (\"错误的缩进格式\")"
   ]
  },
  {
   "cell_type": "markdown",
   "id": "5b920f79",
   "metadata": {},
   "source": [
    "<span style=\"color:purple\">3)注释使用</span>"
   ]
  },
  {
   "cell_type": "code",
   "execution_count": 3,
   "id": "1ac7412a",
   "metadata": {
    "scrolled": true
   },
   "outputs": [
    {
     "name": "stdout",
     "output_type": "stream",
     "text": [
      "单行注释\n",
      "多行注释\n"
     ]
    }
   ],
   "source": [
    "# 单行注释用'#'\n",
    "print (\"单行注释\")  # 第一个注释\n",
    "\n",
    "# 多行注释使用三个单引号或三个双引号\n",
    "\n",
    "'''\n",
    "这是多行注释，使用单引号\n",
    "这是多行注释，使用单引号\n",
    "'''\n",
    "\"\"\"\n",
    "这是多行注释，使用双引号\n",
    "这是多行注释，使用双引号\n",
    "\"\"\"\n",
    "print (\"多行注释\")  # 第二个注释\n"
   ]
  },
  {
   "cell_type": "markdown",
   "id": "7e14475e",
   "metadata": {},
   "source": [
    "<span style=\"color:purple\">4)代码组</span>"
   ]
  },
  {
   "cell_type": "code",
   "execution_count": 4,
   "id": "82836cb7",
   "metadata": {},
   "outputs": [
    {
     "name": "stdout",
     "output_type": "stream",
     "text": [
      "num为2\n"
     ]
    }
   ],
   "source": [
    "#缩进相同的一组语句构成一个代码块，我们称之代码组\n",
    "num=2\n",
    "if num==1 : \n",
    "   print(\"num为1\") \n",
    "elif num==2 :  \n",
    "   print(\"num为2\")  \n",
    "else :  \n",
    "   print(\"num为3\")"
   ]
  },
  {
   "cell_type": "markdown",
   "id": "7f44b00c",
   "metadata": {},
   "source": [
    "<span style=\"color:purple\">5)变量类型</span>"
   ]
  },
  {
   "cell_type": "code",
   "execution_count": 5,
   "id": "3033cb49",
   "metadata": {},
   "outputs": [
    {
     "name": "stdout",
     "output_type": "stream",
     "text": [
      "13\n",
      "130.0\n",
      "Taylor\n"
     ]
    }
   ],
   "source": [
    "'''\n",
    "Python 中的变量赋值不需要类型声明\n",
    "每个变量在内存中创建，都包括变量的标识，名称和数据这些信息\n",
    "每个变量在使用前都必须赋值，变量赋值以后该变量才会被创建\n",
    "'''\n",
    "counter = 13 # 赋值整型变量\n",
    "miles = 130.0 # 浮点型\n",
    "name = \"Taylor\" # 字符串\n",
    " \n",
    "print(counter)\n",
    "print(miles)\n",
    "print(name)"
   ]
  },
  {
   "cell_type": "markdown",
   "id": "a4dfb10c",
   "metadata": {},
   "source": [
    "<span style=\"color:purple\">6)input的使用</span>"
   ]
  },
  {
   "cell_type": "code",
   "execution_count": 6,
   "id": "ed32f1f5",
   "metadata": {},
   "outputs": [
    {
     "name": "stdout",
     "output_type": "stream",
     "text": [
      "input:2\n",
      "a的类型： <class 'str'>\n",
      "input:abc\n",
      "b的类型： <class 'str'>\n"
     ]
    }
   ],
   "source": [
    "#input接收任意输入，将所有输入默认为字符串处理，并返回字符串类型\n",
    "a = input(\"input:\")                 # 输入整数\n",
    "print(\"a的类型：\",type(a))             \n",
    "b = input(\"input:\")                 # 输入字符串\n",
    "print(\"b的类型：\",type(b))"
   ]
  },
  {
   "cell_type": "code",
   "execution_count": 7,
   "id": "3cf5752b",
   "metadata": {},
   "outputs": [
    {
     "name": "stdout",
     "output_type": "stream",
     "text": [
      "input：1 3 5\n",
      "r1,r2,r3: 1 3 5\n"
     ]
    }
   ],
   "source": [
    "#需要输入多个值时，可以考虑string中的split函数\n",
    "r1,r2,r3 = (input(\"input：\").split(\" \"))\n",
    "r1= int(r1)\n",
    "r2= int(r2)\n",
    "r3= int(r3)\n",
    "print(\"r1,r2,r3:\",r1,r2,r3)"
   ]
  },
  {
   "cell_type": "markdown",
   "id": "5a4179e7",
   "metadata": {},
   "source": [
    "<span style=\"color:purple\">7)函数的使用</span>"
   ]
  },
  {
   "cell_type": "code",
   "execution_count": 8,
   "id": "5cbd51c3",
   "metadata": {},
   "outputs": [
    {
     "name": "stdout",
     "output_type": "stream",
     "text": [
      "Hello Python!\n"
     ]
    }
   ],
   "source": [
    "#函数示例1\n",
    "def hello() :\n",
    "    print(\"Hello Python!\")\n",
    "\n",
    "hello()"
   ]
  },
  {
   "cell_type": "code",
   "execution_count": 9,
   "id": "0b751722",
   "metadata": {},
   "outputs": [
    {
     "name": "stdout",
     "output_type": "stream",
     "text": [
      "width = 13  height = 130  area = 1690\n"
     ]
    }
   ],
   "source": [
    "#函数示例2\n",
    "# 计算面积函数\n",
    "def area(width, height):\n",
    "    return width * height\n",
    "\n",
    "w = 13\n",
    "h = 130\n",
    "print(\"width =\", w, \" height =\", h, \" area =\", area(w, h))"
   ]
  },
  {
   "cell_type": "markdown",
   "id": "992131d9",
   "metadata": {},
   "source": [
    "<span style=\"color:purple\">8)列表</span>"
   ]
  },
  {
   "cell_type": "code",
   "execution_count": 14,
   "id": "f3aa2151",
   "metadata": {},
   "outputs": [],
   "source": [
    "#列表的数据项不需要具有相同的类型，只要把逗号分隔的不同的数据项使用方括号括起来即可\n",
    "list = ['Intelligent Systems', 2023 , 'Engineering' , 1010]\n"
   ]
  },
  {
   "cell_type": "code",
   "execution_count": 15,
   "id": "4c464bfd",
   "metadata": {},
   "outputs": [
    {
     "name": "stdout",
     "output_type": "stream",
     "text": [
      "1010\n",
      "Engineering\n"
     ]
    }
   ],
   "source": [
    "#逆向索引输出列表\n",
    "print( list[-1] )\n",
    "print( list[-2] )"
   ]
  },
  {
   "cell_type": "code",
   "execution_count": 16,
   "id": "b8a7df9b",
   "metadata": {},
   "outputs": [
    {
     "name": "stdout",
     "output_type": "stream",
     "text": [
      "['Intelligent Systems', 2023, 'Engineering', 1010]\n"
     ]
    }
   ],
   "source": [
    "#遍历列表\n",
    "print( list[0:4] )"
   ]
  },
  {
   "cell_type": "code",
   "execution_count": 18,
   "id": "10c6d154",
   "metadata": {},
   "outputs": [
    {
     "name": "stdout",
     "output_type": "stream",
     "text": [
      "['Intelligent Systems', 2023, 'Engineering', 1012]\n"
     ]
    }
   ],
   "source": [
    "#列表修改\n",
    "list[3]=1012\n",
    "print( list )"
   ]
  },
  {
   "cell_type": "code",
   "execution_count": 19,
   "id": "3e4033a9",
   "metadata": {},
   "outputs": [
    {
     "name": "stdout",
     "output_type": "stream",
     "text": [
      "['Intelligent Systems', 2023, 'Engineering', 1012, 2024]\n"
     ]
    }
   ],
   "source": [
    "#列表加入新元素\n",
    "list.append(2024)\n",
    "print( list )"
   ]
  },
  {
   "cell_type": "code",
   "execution_count": 20,
   "id": "8e841d3a",
   "metadata": {},
   "outputs": [
    {
     "name": "stdout",
     "output_type": "stream",
     "text": [
      "['Intelligent Systems', 'Engineering', 1012, 2024]\n"
     ]
    }
   ],
   "source": [
    "#列表删除元素\n",
    "del list[1]\n",
    "print( list )"
   ]
  },
  {
   "cell_type": "markdown",
   "id": "20b61f61",
   "metadata": {},
   "source": [
    "<span style=\"color:purple\">9)循环</span>"
   ]
  },
  {
   "cell_type": "code",
   "execution_count": 21,
   "id": "94b4eb59",
   "metadata": {},
   "outputs": [
    {
     "name": "stdout",
     "output_type": "stream",
     "text": [
      "while循环：\n",
      "0\n",
      "1\n",
      "2\n",
      "3\n",
      "4\n",
      "5\n",
      "6\n",
      "7\n",
      "8\n",
      "9\n",
      "10\n",
      "11\n",
      "12\n"
     ]
    }
   ],
   "source": [
    "#while循环\n",
    "print('while循环：')\n",
    "num=0\n",
    "while num<13 :\n",
    "    print(num)\n",
    "    num += 1"
   ]
  },
  {
   "cell_type": "code",
   "execution_count": 22,
   "id": "ea934a22",
   "metadata": {},
   "outputs": [
    {
     "name": "stdout",
     "output_type": "stream",
     "text": [
      "while-else循环：\n",
      "true\n",
      "false\n"
     ]
    }
   ],
   "source": [
    "#while-else循环\n",
    "\n",
    "print('while-else循环：')\n",
    "symbol=True\n",
    "while symbol:\n",
    "    print(\"true\")\n",
    "    symbol=False\n",
    "else:\n",
    "    print(\"false\")"
   ]
  },
  {
   "cell_type": "code",
   "execution_count": 23,
   "id": "820b2a06",
   "metadata": {},
   "outputs": [
    {
     "name": "stdout",
     "output_type": "stream",
     "text": [
      "for循环：\n",
      "0\n",
      "1\n",
      "2\n",
      "3\n",
      "4\n",
      "5\n",
      "6\n",
      "7\n",
      "8\n",
      "9\n",
      "10\n",
      "11\n",
      "12\n"
     ]
    }
   ],
   "source": [
    "#for循环\n",
    "print('for循环：')\n",
    "for i in range(0,13) :\n",
    "    print(i)"
   ]
  },
  {
   "cell_type": "code",
   "execution_count": 24,
   "id": "61d6e4bf",
   "metadata": {},
   "outputs": [
    {
     "name": "stdout",
     "output_type": "stream",
     "text": [
      "break：\n",
      "8\n",
      "7\n",
      "6\n",
      "over!\n"
     ]
    }
   ],
   "source": [
    "#break和continue\n",
    "print('break：')\n",
    "i=9\n",
    "while i > 0:\n",
    "    i -= 1\n",
    "    print(i)\n",
    "    if i == 6: \n",
    "        break\n",
    "print(\"over!\")"
   ]
  },
  {
   "cell_type": "code",
   "execution_count": 25,
   "id": "046fa5f7",
   "metadata": {},
   "outputs": [
    {
     "name": "stdout",
     "output_type": "stream",
     "text": [
      "continue：\n",
      "8\n",
      "7\n",
      "5\n",
      "4\n",
      "3\n",
      "2\n",
      "1\n",
      "0\n",
      "over!\n"
     ]
    }
   ],
   "source": [
    "print('continue：')\n",
    "i=9\n",
    "while i > 0:\n",
    "    i -= 1\n",
    "    if i == 6: \n",
    "        continue\n",
    "    print(i)\n",
    "print(\"over!\")"
   ]
  },
  {
   "cell_type": "markdown",
   "id": "a78b05cb",
   "metadata": {},
   "source": [
    "<span style=\"color:purple\">10)模块导入</span>"
   ]
  },
  {
   "cell_type": "code",
   "execution_count": 26,
   "id": "d56e8ccc",
   "metadata": {},
   "outputs": [
    {
     "name": "stdout",
     "output_type": "stream",
     "text": [
      "命令行参数如下:\n",
      "D:\\Anaconda\\lib\\site-packages\\ipykernel_launcher.py\n",
      "-f\n",
      "C:\\Users\\Qian\\AppData\\Roaming\\jupyter\\runtime\\kernel-2546011c-110d-4223-b87b-754fa508a103.json\n"
     ]
    }
   ],
   "source": [
    "#想使用 Python 源文件，只需在另一个源文件里执行 import 语句\n",
    "import sys\n",
    " \n",
    "print('命令行参数如下:')\n",
    "for i in sys.argv:\n",
    "   print(i)"
   ]
  },
  {
   "cell_type": "code",
   "execution_count": 27,
   "id": "d7e4bdda",
   "metadata": {},
   "outputs": [
    {
     "name": "stdout",
     "output_type": "stream",
     "text": [
      "x= [0 1 2]\n",
      "y= [293346624     32761 293351136]\n",
      "z= [0 0 0]\n",
      "a= [ 1.  7. 13.]\n"
     ]
    }
   ],
   "source": [
    "import numpy as np\n",
    "#简单介绍使用numpy库创建数组的几种方式\n",
    "#使用 arange 函数创建数值范围并返回 ndarray 对象\n",
    "x = np.arange(3)  \n",
    "print ('x=',x)\n",
    "#创建一个指定形状（shape）、数据类型（dtype）且未初始化的数组\n",
    "y = np.empty(3,dtype = int) \n",
    "print ('y=',y)\n",
    "#创建指定大小的数组，数组元素以 0 来填充\n",
    "z = np.zeros(3, dtype = int) \n",
    "print ('z=',z)\n",
    "#创建一个一维数组，数组是一个等差数列构成的\n",
    "a = np.linspace(1,13,3)\n",
    "print ('a=',a)"
   ]
  },
  {
   "cell_type": "markdown",
   "id": "73259f8e",
   "metadata": {},
   "source": [
    "# 二、数据处理示例"
   ]
  },
  {
   "cell_type": "markdown",
   "id": "fcfc3a2c",
   "metadata": {},
   "source": [
    "diabetes.csv是一个亚利桑那州的Pima Womans Hospital包含糖尿病相关测量和结果的历史记录的数据集，目的是根据某些诊断测量结果预测患者是否患有糖尿病。该数据集由8个医学预测变量和一个目标变量outcome组成。在进行机器学习的模型训练前我们需要对原始数据进行一定的处理，下列即为一个简略的数据处理示例过程。"
   ]
  },
  {
   "cell_type": "markdown",
   "id": "85f05918",
   "metadata": {},
   "source": [
    "<span style=\"color:purple\">1)引入各种常用库</span>"
   ]
  },
  {
   "cell_type": "code",
   "execution_count": 30,
   "id": "662450cc",
   "metadata": {},
   "outputs": [],
   "source": [
    "import pandas as pd\n",
    "import numpy as np\n",
    "import seaborn as sb\n",
    "import matplotlib.pyplot as plt\n",
    "from sklearn.model_selection import train_test_split\n",
    "import warnings\n",
    "warnings.filterwarnings('ignore')"
   ]
  },
  {
   "cell_type": "markdown",
   "id": "465cd6d0",
   "metadata": {},
   "source": [
    "<span style=\"color:purple\">2)使用Pandas加载数据文件并输出文件信息</span>"
   ]
  },
  {
   "cell_type": "code",
   "execution_count": 31,
   "id": "962f7b0e",
   "metadata": {},
   "outputs": [
    {
     "name": "stdout",
     "output_type": "stream",
     "text": [
      "Pregnancies                   int64\n",
      "Glucose                       int64\n",
      "BloodPressure               float64\n",
      "SkinThickness               float64\n",
      "Insulin                       int64\n",
      "BMI                         float64\n",
      "DiabetesPedigreeFunction    float64\n",
      "Age                           int64\n",
      "Outcome                       int64\n",
      "dtype: object\n",
      "Pregnancies                 0\n",
      "Glucose                     0\n",
      "BloodPressure               1\n",
      "SkinThickness               1\n",
      "Insulin                     0\n",
      "BMI                         0\n",
      "DiabetesPedigreeFunction    1\n",
      "Age                         0\n",
      "Outcome                     0\n",
      "dtype: int64\n"
     ]
    }
   ],
   "source": [
    "#使用Pandas将CSV文件加载到名为pima的数据框对象中\n",
    "pima = pd.read_csv(\"diabetes.csv\")\n",
    "#输出文件信息\n",
    "print(pima.dtypes)\n",
    "#输出csv文件中每列缺失的项目数量\n",
    "print(pima.isnull().sum())"
   ]
  },
  {
   "cell_type": "markdown",
   "id": "36a23574",
   "metadata": {},
   "source": [
    "<span style=\"color:purple\">3)数据查看</span>"
   ]
  },
  {
   "cell_type": "code",
   "execution_count": 32,
   "id": "095cde5a",
   "metadata": {},
   "outputs": [
    {
     "name": "stdout",
     "output_type": "stream",
     "text": [
      "   Pregnancies  Glucose  BloodPressure  SkinThickness  Insulin   BMI  \\\n",
      "0            6      148           72.0           35.0        0  33.6   \n",
      "1            1       85           66.0           29.0        0  26.6   \n",
      "2            8      183           64.0            0.0        0  23.3   \n",
      "3            1       89           66.0           23.0       94  28.1   \n",
      "4            0      137           40.0           35.0      168  43.1   \n",
      "5            5      116           74.0            0.0        0  25.6   \n",
      "6            3       78           50.0           32.0       88  31.0   \n",
      "7           10      115            0.0            0.0        0  35.3   \n",
      "8            2      197           70.0           45.0      543  30.5   \n",
      "9            8      125           96.0            0.0        0   0.0   \n",
      "\n",
      "   DiabetesPedigreeFunction  Age  Outcome  \n",
      "0                     0.627   50        1  \n",
      "1                     0.351   31        0  \n",
      "2                     0.672   32        1  \n",
      "3                     0.167   21        0  \n",
      "4                     2.288   33        1  \n",
      "5                     0.201   30        0  \n",
      "6                     0.248   26        1  \n",
      "7                     0.134   29        0  \n",
      "8                     0.158   53        1  \n",
      "9                     0.232   54        1  \n"
     ]
    }
   ],
   "source": [
    "#输出前10行数据\n",
    "print(pima.head(10))"
   ]
  },
  {
   "cell_type": "markdown",
   "id": "af0b46f2",
   "metadata": {},
   "source": [
    "<span style=\"color:purple\">4)替换缺失值为0</span>"
   ]
  },
  {
   "cell_type": "code",
   "execution_count": 33,
   "id": "88a4884e",
   "metadata": {
    "scrolled": false
   },
   "outputs": [
    {
     "data": {
      "text/html": [
       "<div>\n",
       "<style scoped>\n",
       "    .dataframe tbody tr th:only-of-type {\n",
       "        vertical-align: middle;\n",
       "    }\n",
       "\n",
       "    .dataframe tbody tr th {\n",
       "        vertical-align: top;\n",
       "    }\n",
       "\n",
       "    .dataframe thead th {\n",
       "        text-align: right;\n",
       "    }\n",
       "</style>\n",
       "<table border=\"1\" class=\"dataframe\">\n",
       "  <thead>\n",
       "    <tr style=\"text-align: right;\">\n",
       "      <th></th>\n",
       "      <th>Glucose</th>\n",
       "      <th>BloodPressure</th>\n",
       "      <th>SkinThickness</th>\n",
       "      <th>Insulin</th>\n",
       "      <th>BMI</th>\n",
       "    </tr>\n",
       "  </thead>\n",
       "  <tbody>\n",
       "    <tr>\n",
       "      <th>0</th>\n",
       "      <td>148</td>\n",
       "      <td>72.0</td>\n",
       "      <td>35.0</td>\n",
       "      <td>0</td>\n",
       "      <td>33.6</td>\n",
       "    </tr>\n",
       "    <tr>\n",
       "      <th>1</th>\n",
       "      <td>85</td>\n",
       "      <td>66.0</td>\n",
       "      <td>29.0</td>\n",
       "      <td>0</td>\n",
       "      <td>26.6</td>\n",
       "    </tr>\n",
       "    <tr>\n",
       "      <th>2</th>\n",
       "      <td>183</td>\n",
       "      <td>64.0</td>\n",
       "      <td>0.0</td>\n",
       "      <td>0</td>\n",
       "      <td>23.3</td>\n",
       "    </tr>\n",
       "    <tr>\n",
       "      <th>3</th>\n",
       "      <td>89</td>\n",
       "      <td>66.0</td>\n",
       "      <td>23.0</td>\n",
       "      <td>94</td>\n",
       "      <td>28.1</td>\n",
       "    </tr>\n",
       "    <tr>\n",
       "      <th>4</th>\n",
       "      <td>137</td>\n",
       "      <td>40.0</td>\n",
       "      <td>35.0</td>\n",
       "      <td>168</td>\n",
       "      <td>43.1</td>\n",
       "    </tr>\n",
       "    <tr>\n",
       "      <th>...</th>\n",
       "      <td>...</td>\n",
       "      <td>...</td>\n",
       "      <td>...</td>\n",
       "      <td>...</td>\n",
       "      <td>...</td>\n",
       "    </tr>\n",
       "    <tr>\n",
       "      <th>763</th>\n",
       "      <td>101</td>\n",
       "      <td>76.0</td>\n",
       "      <td>48.0</td>\n",
       "      <td>180</td>\n",
       "      <td>32.9</td>\n",
       "    </tr>\n",
       "    <tr>\n",
       "      <th>764</th>\n",
       "      <td>122</td>\n",
       "      <td>70.0</td>\n",
       "      <td>27.0</td>\n",
       "      <td>0</td>\n",
       "      <td>36.8</td>\n",
       "    </tr>\n",
       "    <tr>\n",
       "      <th>765</th>\n",
       "      <td>121</td>\n",
       "      <td>72.0</td>\n",
       "      <td>23.0</td>\n",
       "      <td>112</td>\n",
       "      <td>26.2</td>\n",
       "    </tr>\n",
       "    <tr>\n",
       "      <th>766</th>\n",
       "      <td>126</td>\n",
       "      <td>60.0</td>\n",
       "      <td>0.0</td>\n",
       "      <td>0</td>\n",
       "      <td>30.1</td>\n",
       "    </tr>\n",
       "    <tr>\n",
       "      <th>767</th>\n",
       "      <td>93</td>\n",
       "      <td>70.0</td>\n",
       "      <td>31.0</td>\n",
       "      <td>0</td>\n",
       "      <td>30.4</td>\n",
       "    </tr>\n",
       "  </tbody>\n",
       "</table>\n",
       "<p>768 rows × 5 columns</p>\n",
       "</div>"
      ],
      "text/plain": [
       "     Glucose  BloodPressure  SkinThickness  Insulin   BMI\n",
       "0        148           72.0           35.0        0  33.6\n",
       "1         85           66.0           29.0        0  26.6\n",
       "2        183           64.0            0.0        0  23.3\n",
       "3         89           66.0           23.0       94  28.1\n",
       "4        137           40.0           35.0      168  43.1\n",
       "..       ...            ...            ...      ...   ...\n",
       "763      101           76.0           48.0      180  32.9\n",
       "764      122           70.0           27.0        0  36.8\n",
       "765      121           72.0           23.0      112  26.2\n",
       "766      126           60.0            0.0        0  30.1\n",
       "767       93           70.0           31.0        0  30.4\n",
       "\n",
       "[768 rows x 5 columns]"
      ]
     },
     "execution_count": 33,
     "metadata": {},
     "output_type": "execute_result"
    }
   ],
   "source": [
    "pima[['Glucose','BloodPressure','SkinThickness','Insulin','BMI']].replace(np.NaN,0)"
   ]
  },
  {
   "cell_type": "markdown",
   "id": "5e6f4007",
   "metadata": {},
   "source": [
    "<span style=\"color:purple\">5)将Outcome这一列内容可视化</span>"
   ]
  },
  {
   "cell_type": "code",
   "execution_count": 34,
   "id": "588cce42",
   "metadata": {},
   "outputs": [
    {
     "data": {
      "image/png": "[encoded data removed]",
      "text/plain": [
       "<Figure size 360x288 with 1 Axes>"
      ]
     },
     "metadata": {
      "needs_background": "light"
     },
     "output_type": "display_data"
    }
   ],
   "source": [
    "plt.figure(figsize=(5,4))\n",
    "sb.countplot(pima['Outcome'],palette='OrRd_r',saturation=0.8)\n",
    "plt.tight_layout()\n",
    "plt.grid(True)\n",
    "plt.show()"
   ]
  },
  {
   "cell_type": "markdown",
   "id": "d6b1d6e6",
   "metadata": {},
   "source": [
    "<span style=\"color:purple\">6)将Pregnancies这列连续变量分别按不同划分方法转换为分类变量</span>"
   ]
  },
  {
   "cell_type": "code",
   "execution_count": 35,
   "id": "5c1578c3",
   "metadata": {},
   "outputs": [
    {
     "name": "stdout",
     "output_type": "stream",
     "text": [
      "0    2\n",
      "1    1\n",
      "2    2\n",
      "3    1\n",
      "4    0\n",
      "5    2\n",
      "6    1\n",
      "7    3\n",
      "8    1\n",
      "9    2\n",
      "Name: Pregnancies, dtype: category\n",
      "Categories (4, int64): [0 < 1 < 2 < 3]\n",
      "0    2\n",
      "1    0\n",
      "2    3\n",
      "3    0\n",
      "4    0\n",
      "5    2\n",
      "6    1\n",
      "7    3\n",
      "8    1\n",
      "9    3\n",
      "Name: Pregnancies, dtype: category\n",
      "Categories (4, int64): [0 < 1 < 2 < 3]\n"
     ]
    }
   ],
   "source": [
    "#将Pregnancies这一列的内容按照[0,1,5,10,250]的区间分别划分为[0,1,2,3]的label\n",
    "Pregnancies1=pd.cut(pima['Pregnancies'],[0,1,5,10,250], labels=[0,1,2,3],right=False)\n",
    "#将Pregnancies这一列的内容按照四等分划分为[0,1,2,3]的label\n",
    "Pregnancies2=pd.qcut(pima['Pregnancies'],4, labels=[0,1,2,3])\n",
    "print(Pregnancies1.head(10))\n",
    "print(Pregnancies2.head(10))"
   ]
  },
  {
   "cell_type": "markdown",
   "id": "e12dd773",
   "metadata": {},
   "source": [
    "<span style=\"color:purple\">7)将原始数据集划分为训练集和测试集</span>"
   ]
  },
  {
   "cell_type": "code",
   "execution_count": 36,
   "id": "959ef96d",
   "metadata": {},
   "outputs": [
    {
     "name": "stdout",
     "output_type": "stream",
     "text": [
      "(768, 8) (576, 8) (192, 8) (768,) (576,) (192,)\n"
     ]
    }
   ],
   "source": [
    "x1 = pima.drop(columns='Outcome')\n",
    "y1 = pima['Outcome']\n",
    "x_train1, x_test1, y_train1, y_test1 = train_test_split(x1, y1, test_size = 0.25, random_state=0)\n",
    "#输出划分后的两个集合和原始集合的大小\n",
    "print(x1.shape, x_train1.shape, x_test1.shape, y1.shape, y_train1.shape, y_test1.shape)"
   ]
  },
  {
   "cell_type": "markdown",
   "id": "35cc0f5c",
   "metadata": {},
   "source": [
    "# 三、课堂练习"
   ]
  },
  {
   "cell_type": "markdown",
   "id": "da68bbb4",
   "metadata": {},
   "source": [
    "在jupyter notebook工具上使用python编写一个冒泡排序算法和一个快速排序算法，要求如下：  \n",
    "1)待排序数组手动输入   \n",
    "2)将所实现算法编写为可调用函数，然后在另一个模块调用   "
   ]
  },
  {
   "cell_type": "markdown",
   "id": "f0b92f50",
   "metadata": {},
   "source": [
    "# 四、课堂拓展"
   ]
  },
  {
   "cell_type": "markdown",
   "id": "ec7f7b86",
   "metadata": {},
   "source": [
    "为了方便同学们课后自学，向大家介绍一些相关网站帮助同学们自行学习提升：    \n",
    "https://docs.python.org/zh-cn/3/tutorial/index.html  \n",
    "https://www.w3school.com.cn/python/index.asp  \n",
    "https://www.runoob.com/python3/  \n",
    "https://www.numpy.org.cn/  \n",
    "http://www.pypandas.cn/docs/  \n",
    "https://seaborn.apachecn.org/#/README  \n",
    "https://scikit-learn.org.cn/  \n",
    "https://jupyter-notebook.readthedocs.io/en/stable/notebook.html"
   ]
  }
 ],
 "metadata": {
  "kernelspec": {
   "display_name": "Python 3 (ipykernel)",
   "language": "python",
   "name": "python3"
  },
  "language_info": {
   "codemirror_mode": {
    "name": "ipython",
    "version": 3
   },
   "file_extension": ".py",
   "mimetype": "text/x-python",
   "name": "python",
   "nbconvert_exporter": "python",
   "pygments_lexer": "ipython3",
   "version": "3.9.12"
  }
 },
 "nbformat": 4,
 "nbformat_minor": 5
}
